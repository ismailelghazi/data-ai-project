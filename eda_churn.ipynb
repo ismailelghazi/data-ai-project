{
 "cells": [
  {
   "cell_type": "markdown",
   "id": "476ddce2",
   "metadata": {},
   "source": [
    "# Charger et inspecter Data.csv"
   ]
  },
  {
   "cell_type": "markdown",
   "id": "94a8a924",
   "metadata": {},
   "source": [
    "## importation "
   ]
  },
  {
   "cell_type": "code",
   "execution_count": 17,
   "id": "7ae3e1fb",
   "metadata": {},
   "outputs": [],
   "source": [
    "import pandas as pd\n",
    "import numpy as np\n",
    "from sklearn.impute import SimpleImputer\n",
    "import matplotlib.pyplot as plt\n",
    "import seaborn as sns\n",
    "import matplotlib.pyplot as plt\n",
    "\n"
   ]
  },
  {
   "cell_type": "markdown",
   "id": "f60f7e5f",
   "metadata": {},
   "source": [
    "## Charger et inspecter Data.csv"
   ]
  },
  {
   "cell_type": "code",
   "execution_count": 8,
   "id": "8d40a90a",
   "metadata": {},
   "outputs": [
    {
     "name": "stdout",
     "output_type": "stream",
     "text": [
      "   customerID  gender  SeniorCitizen Partner Dependents  tenure PhoneService  \\\n",
      "0  7590-VHVEG  Female              0     Yes         No       1           No   \n",
      "1  5575-GNVDE    Male              0      No         No      34          Yes   \n",
      "2  3668-QPYBK    Male              0      No         No       2          Yes   \n",
      "3  7795-CFOCW    Male              0      No         No      45           No   \n",
      "4  9237-HQITU  Female              0      No         No       2          Yes   \n",
      "\n",
      "      MultipleLines InternetService OnlineSecurity  ... DeviceProtection  \\\n",
      "0  No phone service             DSL             No  ...               No   \n",
      "1                No             DSL            Yes  ...              Yes   \n",
      "2                No             DSL            Yes  ...               No   \n",
      "3  No phone service             DSL            Yes  ...              Yes   \n",
      "4                No     Fiber optic             No  ...               No   \n",
      "\n",
      "  TechSupport StreamingTV StreamingMovies        Contract PaperlessBilling  \\\n",
      "0          No          No              No  Month-to-month              Yes   \n",
      "1          No          No              No        One year               No   \n",
      "2          No          No              No  Month-to-month              Yes   \n",
      "3         Yes          No              No        One year               No   \n",
      "4          No          No              No  Month-to-month              Yes   \n",
      "\n",
      "               PaymentMethod MonthlyCharges  TotalCharges Churn  \n",
      "0           Electronic check          29.85         29.85    No  \n",
      "1               Mailed check          56.95        1889.5    No  \n",
      "2               Mailed check          53.85        108.15   Yes  \n",
      "3  Bank transfer (automatic)          42.30       1840.75    No  \n",
      "4           Electronic check          70.70        151.65   Yes  \n",
      "\n",
      "[5 rows x 21 columns]\n"
     ]
    }
   ],
   "source": [
    "absolute_path = \"data.csv\"\n",
    "df_abs = pd.read_csv(absolute_path)\n",
    "\n",
    "print(df_abs.head())"
   ]
  },
  {
   "cell_type": "markdown",
   "id": "564ffa1e",
   "metadata": {},
   "source": [
    "## Étudier les valeurs manquantes et Corrélations"
   ]
  },
  {
   "cell_type": "code",
   "execution_count": 7,
   "id": "83de0a10",
   "metadata": {},
   "outputs": [
    {
     "name": "stdout",
     "output_type": "stream",
     "text": [
      "0\n"
     ]
    }
   ],
   "source": [
    "# Voir les valeurs manquantes\n",
    "print(df_abs.isnull().sum().sum())"
   ]
  },
  {
   "cell_type": "markdown",
   "id": "391728c5",
   "metadata": {},
   "source": []
  },
  {
   "cell_type": "code",
   "execution_count": 20,
   "id": "99a440d3",
   "metadata": {},
   "outputs": [
    {
     "data": {
      "image/png": "[encoded data removed]",
      "text/plain": [
       "<Figure size 640x480 with 1 Axes>"
      ]
     },
     "metadata": {},
     "output_type": "display_data"
    }
   ],
   "source": [
    "churn_rate = df_abs['Churn'].value_counts(normalize=True)\n",
    "churn_rate.plot(kind='bar', color=['skyblue', 'salmon'])\n",
    "plt.title('Taux de Churn des Clients')\n",
    "plt.xlabel('Churn')\n",
    "plt.ylabel('Proportion')\n",
    "plt.xticks(ticks=[0,1], labels=['Fidèle (No)', 'Churn (Yes)'], rotation=0)\n",
    "plt.show()"
   ]
  }
 ],
 "metadata": {
  "kernelspec": {
   "display_name": "venv",
   "language": "python",
   "name": "python3"
  },
  "language_info": {
   "codemirror_mode": {
    "name": "ipython",
    "version": 3
   },
   "file_extension": ".py",
   "mimetype": "text/x-python",
   "name": "python",
   "nbconvert_exporter": "python",
   "pygments_lexer": "ipython3",
   "version": "3.13.7"
  }
 },
 "nbformat": 4,
 "nbformat_minor": 5
}
